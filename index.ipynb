{
 "cells": [
  {
   "cell_type": "markdown",
   "metadata": {},
   "source": [
    "# Object Initialization - Lab"
   ]
  },
  {
   "cell_type": "markdown",
   "metadata": {},
   "source": [
    "## Introduction\n",
    "In this lab, you'll practice defining classes with custom `__init__` methods. You'll define two classes, Driver and Passenger in the cells below. Follow the instructions in order to get the tests to pass."
   ]
  },
  {
   "cell_type": "markdown",
   "metadata": {},
   "source": [
    "## Objectives\n",
    "\n",
    "You will be able to:\n",
    "\n",
    "* Define custom `__init__` methods for object initialization\n",
    "* Create instance variables in the `__init__` method \n",
    "* Use default arguments in the `__init__` method"
   ]
  },
  {
   "cell_type": "markdown",
   "metadata": {},
   "source": [
    "## Initializing Instance Objects"
   ]
  },
  {
   "cell_type": "markdown",
   "metadata": {},
   "source": [
    "Start off by defining Driver, similar to as you've done before. This time, define an `__init__` method that initializes a driver with the attributes `first`, `last`, and `occupation` for their first name, last name, and occupation. Provide a default argument of `\"driver\"` for `occupation`."
   ]
  },
  {
   "cell_type": "code",
   "execution_count": 24,
   "metadata": {},
   "outputs": [],
   "source": [
    "# Define Driver Class Here\n",
    "# class Driver(object):\n",
    "#     def __init__(self, first = None, last = None, occupation = 'None'):\n",
    "#         self.first = first\n",
    "#         self.last = last\n",
    "#         self.occupation = 'driver'\n",
    "\n",
    "class Driver(object):\n",
    "    def __init__(self, first = None, last = None, occupation = 'driver'):\n",
    "        self.first = first\n",
    "        self.last = last\n",
    "        self.occupation = occupation\n"
   ]
  },
  {
   "cell_type": "markdown",
   "metadata": {},
   "source": [
    "Now, initialize a driver with the first name `\"Dale\"`, last name `\"Earnhardt\"`.\n",
    "\n"
   ]
  },
  {
   "cell_type": "code",
   "execution_count": 26,
   "metadata": {
    "scrolled": true
   },
   "outputs": [
    {
     "name": "stdout",
     "output_type": "stream",
     "text": [
      "Dale\n",
      "Earnhardt\n",
      "teacher\n"
     ]
    }
   ],
   "source": [
    "test = Driver('Dale', 'Earnhardt', 'teacher')\n",
    "# test.first = 'Dale'\n",
    "# test.last = 'Earnhardt'\n",
    "print(test.first)\n",
    "print(test.last)\n",
    "print(test.occupation)\n"
   ]
  },
  {
   "cell_type": "markdown",
   "metadata": {},
   "source": [
    "Next, define the Passenger class. Using the `__init__` method, ensure all instances contain the attributes `first`, `last`, `email`, and `rides_taken` for their first name, last name, email, and number of rides they have taken. Provide the `__init__` method with the default argument of `0` for the `rides_taken` attribute since new passengers should not have taken any rides. "
   ]
  },
  {
   "cell_type": "code",
   "execution_count": 35,
   "metadata": {},
   "outputs": [],
   "source": [
    "# Define Passenger Class Here\n",
    "class Passenger(object):\n",
    "    def __init__(self, first = None, last = None, email = None, rides_taken = 0):\n",
    "        self.first = first\n",
    "        self.last = last\n",
    "        self.email = first+last+'@fuber.com'\n",
    "        self.rides_taken = rides_taken"
   ]
  },
  {
   "cell_type": "markdown",
   "metadata": {},
   "source": [
    "Now that you've defined a Passenger class, check it out by initializing a new passenger with the first name `\"Jerry\"`, the last name `\"Seinfeld\"`, and the email `\"jerry.seinfeld@mailinator.com\"`."
   ]
  },
  {
   "cell_type": "code",
   "execution_count": 39,
   "metadata": {},
   "outputs": [],
   "source": [
    "jerry = Passenger('Jerry', 'Seinfield') # initialize Mr. Seinfeld here\n"
   ]
  },
  {
   "cell_type": "code",
   "execution_count": 42,
   "metadata": {},
   "outputs": [
    {
     "name": "stdout",
     "output_type": "stream",
     "text": [
      "Jerry\n",
      "Seinfield\n",
      "JerrySeinfield@fuber.com\n",
      "2\n"
     ]
    }
   ],
   "source": [
    "print(jerry.first) # \"Jerry\"\n",
    "print(jerry.last) # \"Seinfeld\"\n",
    "print(jerry.email) # \"jerry.seinfeld@mailinator.com\"\n",
    "print(jerry.rides_taken) # 0\n",
    "jerry.rides_taken += 1"
   ]
  },
  {
   "cell_type": "code",
   "execution_count": null,
   "metadata": {},
   "outputs": [],
   "source": []
  },
  {
   "cell_type": "markdown",
   "metadata": {},
   "source": [
    "Great work! Mr. Seinfeld is now in the system and ready to request a ride!"
   ]
  },
  {
   "cell_type": "markdown",
   "metadata": {},
   "source": [
    "## Summary\n"
   ]
  },
  {
   "cell_type": "markdown",
   "metadata": {},
   "source": [
    "In this lab, you practiced definining custom `__init__` methods that allowed you to initialize new instances with a set of predetermined attributes and default attributes."
   ]
  }
 ],
 "metadata": {
  "kernelspec": {
   "display_name": "Python 3",
   "language": "python",
   "name": "python3"
  },
  "language_info": {
   "codemirror_mode": {
    "name": "ipython",
    "version": 3
   },
   "file_extension": ".py",
   "mimetype": "text/x-python",
   "name": "python",
   "nbconvert_exporter": "python",
   "pygments_lexer": "ipython3",
   "version": "3.6.6"
  }
 },
 "nbformat": 4,
 "nbformat_minor": 2
}
